{
 "cells": [
  {
   "cell_type": "code",
   "execution_count": 7,
   "metadata": {
    "colab": {},
    "colab_type": "code",
    "id": "6VXPfRp-tARR",
    "outputId": "6c27acaf-2c6a-467f-fd7a-68efce98e30b"
   },
   "outputs": [],
   "source": [
    "import pandas as pd\n",
    "import matplotlib.pyplot as plt\n",
    "import re\n",
    "import time\n",
    "import warnings\n",
    "import sqlite3\n",
    "from sqlalchemy import create_engine # database connection\n",
    "import csv\n",
    "import os\n",
    "warnings.filterwarnings(\"ignore\")\n",
    "import datetime as dt\n",
    "import numpy as np\n",
    "from nltk.corpus import stopwords\n",
    "from sklearn.decomposition import TruncatedSVD\n",
    "from sklearn.preprocessing import normalize\n",
    "from sklearn.feature_extraction.text import CountVectorizer\n",
    "from sklearn.manifold import TSNE\n",
    "import seaborn as sns\n",
    "from sklearn.neighbors import KNeighborsClassifier\n",
    "from sklearn.metrics import confusion_matrix\n",
    "from sklearn.metrics.classification import accuracy_score, log_loss\n",
    "from sklearn.feature_extraction.text import TfidfVectorizer\n",
    "from collections import Counter\n",
    "from scipy.sparse import hstack\n",
    "from sklearn.multiclass import OneVsRestClassifier\n",
    "from sklearn.svm import SVC\n",
    "\n",
    "from collections import Counter, defaultdict\n",
    "from sklearn.calibration import CalibratedClassifierCV\n",
    "from sklearn.naive_bayes import MultinomialNB\n",
    "from sklearn.naive_bayes import GaussianNB\n",
    "from sklearn.model_selection import train_test_split\n",
    "from sklearn.model_selection import GridSearchCV\n",
    "import math\n",
    "from sklearn.metrics import normalized_mutual_info_score\n",
    "from sklearn.ensemble import RandomForestClassifier\n",
    "\n",
    "\n",
    "\n",
    "from sklearn.model_selection import cross_val_score\n",
    "from sklearn.linear_model import SGDClassifier\n",
    "from mlxtend.classifier import StackingClassifier\n",
    "\n",
    "from sklearn import model_selection\n",
    "from sklearn.linear_model import LogisticRegression\n",
    "from sklearn.metrics import precision_recall_curve, auc, roc_curve\n",
    "from tqdm import tqdm"
   ]
  },
  {
   "cell_type": "markdown",
   "metadata": {},
   "source": [
    "### Merging the data and Feature Engineering"
   ]
  },
  {
   "cell_type": "code",
   "execution_count": 42,
   "metadata": {},
   "outputs": [
    {
     "data": {
      "text/html": [
       "<div>\n",
       "<style scoped>\n",
       "    .dataframe tbody tr th:only-of-type {\n",
       "        vertical-align: middle;\n",
       "    }\n",
       "\n",
       "    .dataframe tbody tr th {\n",
       "        vertical-align: top;\n",
       "    }\n",
       "\n",
       "    .dataframe thead th {\n",
       "        text-align: right;\n",
       "    }\n",
       "</style>\n",
       "<table border=\"1\" class=\"dataframe\">\n",
       "  <thead>\n",
       "    <tr style=\"text-align: right;\">\n",
       "      <th></th>\n",
       "      <th>id</th>\n",
       "      <th>qid1</th>\n",
       "      <th>qid2</th>\n",
       "      <th>question1</th>\n",
       "      <th>question2</th>\n",
       "      <th>is_duplicate</th>\n",
       "    </tr>\n",
       "  </thead>\n",
       "  <tbody>\n",
       "    <tr>\n",
       "      <th>0</th>\n",
       "      <td>0</td>\n",
       "      <td>1</td>\n",
       "      <td>2</td>\n",
       "      <td>What is the step by step guide to invest in sh...</td>\n",
       "      <td>What is the step by step guide to invest in sh...</td>\n",
       "      <td>0</td>\n",
       "    </tr>\n",
       "    <tr>\n",
       "      <th>1</th>\n",
       "      <td>1</td>\n",
       "      <td>3</td>\n",
       "      <td>4</td>\n",
       "      <td>What is the story of Kohinoor (Koh-i-Noor) Dia...</td>\n",
       "      <td>What would happen if the Indian government sto...</td>\n",
       "      <td>0</td>\n",
       "    </tr>\n",
       "    <tr>\n",
       "      <th>2</th>\n",
       "      <td>2</td>\n",
       "      <td>5</td>\n",
       "      <td>6</td>\n",
       "      <td>How can I increase the speed of my internet co...</td>\n",
       "      <td>How can Internet speed be increased by hacking...</td>\n",
       "      <td>0</td>\n",
       "    </tr>\n",
       "    <tr>\n",
       "      <th>3</th>\n",
       "      <td>3</td>\n",
       "      <td>7</td>\n",
       "      <td>8</td>\n",
       "      <td>Why am I mentally very lonely? How can I solve...</td>\n",
       "      <td>Find the remainder when [math]23^{24}[/math] i...</td>\n",
       "      <td>0</td>\n",
       "    </tr>\n",
       "    <tr>\n",
       "      <th>4</th>\n",
       "      <td>4</td>\n",
       "      <td>9</td>\n",
       "      <td>10</td>\n",
       "      <td>Which one dissolve in water quikly sugar, salt...</td>\n",
       "      <td>Which fish would survive in salt water?</td>\n",
       "      <td>0</td>\n",
       "    </tr>\n",
       "  </tbody>\n",
       "</table>\n",
       "</div>"
      ],
      "text/plain": [
       "   id  qid1  qid2                                          question1  \\\n",
       "0   0     1     2  What is the step by step guide to invest in sh...   \n",
       "1   1     3     4  What is the story of Kohinoor (Koh-i-Noor) Dia...   \n",
       "2   2     5     6  How can I increase the speed of my internet co...   \n",
       "3   3     7     8  Why am I mentally very lonely? How can I solve...   \n",
       "4   4     9    10  Which one dissolve in water quikly sugar, salt...   \n",
       "\n",
       "                                           question2  is_duplicate  \n",
       "0  What is the step by step guide to invest in sh...             0  \n",
       "1  What would happen if the Indian government sto...             0  \n",
       "2  How can Internet speed be increased by hacking...             0  \n",
       "3  Find the remainder when [math]23^{24}[/math] i...             0  \n",
       "4            Which fish would survive in salt water?             0  "
      ]
     },
     "execution_count": 42,
     "metadata": {},
     "output_type": "execute_result"
    }
   ],
   "source": [
    "df=pd.read_csv(\"D:/Applied Ai/Datasets/QuoraQuestionpairsimilarity/train (1).csv\")\n",
    "df['question1'] = df['question1'].apply(lambda x: str(x))\n",
    "df['question2'] = df['question2'].apply(lambda x: str(x))\n",
    "df.head()"
   ]
  },
  {
   "cell_type": "code",
   "execution_count": 43,
   "metadata": {},
   "outputs": [],
   "source": [
    "dfnlpfeat = pd.read_csv(\"D:/Applied Ai/Datasets/QuoraQuestionpairsimilarity/nlp_features_train.csv\",encoding='latin-1')\n",
    "dfpprofeat = pd.read_csv(\"D:/Applied Ai/Datasets/QuoraQuestionpairsimilarity/df_fe_without_preprocessing_train.csv\",encoding='latin-1')"
   ]
  },
  {
   "cell_type": "code",
   "execution_count": 44,
   "metadata": {},
   "outputs": [],
   "source": [
    "df1 = dfnlpfeat.drop(['qid1','qid2','question1','question2','is_duplicate'],axis=1)\n",
    "df2 = dfpprofeat.drop(['qid1','qid2','question1','question2','is_duplicate'],axis=1)\n",
    "df3 = dfnlpfeat[['id','question1','question2']]\n",
    "duplicate = dfnlpfeat.is_duplicate\n"
   ]
  },
  {
   "cell_type": "code",
   "execution_count": 45,
   "metadata": {},
   "outputs": [
    {
     "data": {
      "text/plain": [
       "id            0\n",
       "question1    15\n",
       "question2     6\n",
       "dtype: int64"
      ]
     },
     "execution_count": 45,
     "metadata": {},
     "output_type": "execute_result"
    }
   ],
   "source": [
    "df3.isnull().sum()"
   ]
  },
  {
   "cell_type": "code",
   "execution_count": 46,
   "metadata": {},
   "outputs": [
    {
     "data": {
      "text/plain": [
       "id           0\n",
       "question1    0\n",
       "question2    0\n",
       "dtype: int64"
      ]
     },
     "execution_count": 46,
     "metadata": {},
     "output_type": "execute_result"
    }
   ],
   "source": [
    "df3 = df3.fillna(' ')\n",
    "df3.isnull().sum()"
   ]
  },
  {
   "cell_type": "code",
   "execution_count": 47,
   "metadata": {},
   "outputs": [
    {
     "data": {
      "text/html": [
       "<div>\n",
       "<style scoped>\n",
       "    .dataframe tbody tr th:only-of-type {\n",
       "        vertical-align: middle;\n",
       "    }\n",
       "\n",
       "    .dataframe tbody tr th {\n",
       "        vertical-align: top;\n",
       "    }\n",
       "\n",
       "    .dataframe thead th {\n",
       "        text-align: right;\n",
       "    }\n",
       "</style>\n",
       "<table border=\"1\" class=\"dataframe\">\n",
       "  <thead>\n",
       "    <tr style=\"text-align: right;\">\n",
       "      <th></th>\n",
       "      <th>id</th>\n",
       "      <th>question1</th>\n",
       "      <th>question2</th>\n",
       "      <th>questions</th>\n",
       "    </tr>\n",
       "  </thead>\n",
       "  <tbody>\n",
       "    <tr>\n",
       "      <th>0</th>\n",
       "      <td>0</td>\n",
       "      <td>what is the step by step guide to invest in sh...</td>\n",
       "      <td>what is the step by step guide to invest in sh...</td>\n",
       "      <td>what is the step by step guide to invest in sh...</td>\n",
       "    </tr>\n",
       "    <tr>\n",
       "      <th>1</th>\n",
       "      <td>1</td>\n",
       "      <td>what is the story of kohinoor  koh i noor  dia...</td>\n",
       "      <td>what would happen if the indian government sto...</td>\n",
       "      <td>what is the story of kohinoor  koh i noor  dia...</td>\n",
       "    </tr>\n",
       "    <tr>\n",
       "      <th>2</th>\n",
       "      <td>2</td>\n",
       "      <td>how can i increase the speed of my internet co...</td>\n",
       "      <td>how can internet speed be increased by hacking...</td>\n",
       "      <td>how can i increase the speed of my internet co...</td>\n",
       "    </tr>\n",
       "    <tr>\n",
       "      <th>3</th>\n",
       "      <td>3</td>\n",
       "      <td>why am i mentally very lonely  how can i solve...</td>\n",
       "      <td>find the remainder when  math 23  24   math  i...</td>\n",
       "      <td>why am i mentally very lonely  how can i solve...</td>\n",
       "    </tr>\n",
       "    <tr>\n",
       "      <th>4</th>\n",
       "      <td>4</td>\n",
       "      <td>which one dissolve in water quikly sugar  salt...</td>\n",
       "      <td>which fish would survive in salt water</td>\n",
       "      <td>which one dissolve in water quikly sugar  salt...</td>\n",
       "    </tr>\n",
       "  </tbody>\n",
       "</table>\n",
       "</div>"
      ],
      "text/plain": [
       "   id                                          question1  \\\n",
       "0   0  what is the step by step guide to invest in sh...   \n",
       "1   1  what is the story of kohinoor  koh i noor  dia...   \n",
       "2   2  how can i increase the speed of my internet co...   \n",
       "3   3  why am i mentally very lonely  how can i solve...   \n",
       "4   4  which one dissolve in water quikly sugar  salt...   \n",
       "\n",
       "                                           question2  \\\n",
       "0  what is the step by step guide to invest in sh...   \n",
       "1  what would happen if the indian government sto...   \n",
       "2  how can internet speed be increased by hacking...   \n",
       "3  find the remainder when  math 23  24   math  i...   \n",
       "4            which fish would survive in salt water    \n",
       "\n",
       "                                           questions  \n",
       "0  what is the step by step guide to invest in sh...  \n",
       "1  what is the story of kohinoor  koh i noor  dia...  \n",
       "2  how can i increase the speed of my internet co...  \n",
       "3  why am i mentally very lonely  how can i solve...  \n",
       "4  which one dissolve in water quikly sugar  salt...  "
      ]
     },
     "execution_count": 47,
     "metadata": {},
     "output_type": "execute_result"
    }
   ],
   "source": [
    "df3[\"questions\"]=df3[\"question1\"]+' '+df3[\"question2\"]\n",
    "df3.head()"
   ]
  },
  {
   "cell_type": "code",
   "execution_count": 48,
   "metadata": {},
   "outputs": [],
   "source": [
    "final_df=df1.merge(df2,on='id',how='left')\n",
    "X=final_df.merge(df3,on='id',how='left')\n"
   ]
  },
  {
   "cell_type": "code",
   "execution_count": 49,
   "metadata": {},
   "outputs": [
    {
     "data": {
      "text/plain": [
       "Index(['cwc_min', 'cwc_max', 'csc_min', 'csc_max', 'ctc_min', 'ctc_max',\n",
       "       'last_word_eq', 'first_word_eq', 'abs_len_diff', 'mean_len',\n",
       "       'token_set_ratio', 'token_sort_ratio', 'fuzz_ratio',\n",
       "       'fuzz_partial_ratio', 'longest_substr_ratio', 'freq_qid1', 'freq_qid2',\n",
       "       'q1len', 'q2len', 'q1_n_words', 'q2_n_words', 'word_Common',\n",
       "       'word_Total', 'word_share', 'freq_q1+q2', 'freq_q1-q2', 'questions'],\n",
       "      dtype='object')"
      ]
     },
     "execution_count": 49,
     "metadata": {},
     "output_type": "execute_result"
    }
   ],
   "source": [
    "X=X.drop(['id','question1', 'question2'],axis=1) #removing id from X\n",
    "X.columns"
   ]
  },
  {
   "cell_type": "code",
   "execution_count": 50,
   "metadata": {},
   "outputs": [],
   "source": [
    "y=np.array(duplicate)"
   ]
  },
  {
   "cell_type": "code",
   "execution_count": 52,
   "metadata": {},
   "outputs": [
    {
     "data": {
      "text/plain": [
       "(100000, 27)"
      ]
     },
     "execution_count": 52,
     "metadata": {},
     "output_type": "execute_result"
    }
   ],
   "source": [
    "# taking 100k data points\n",
    "X=X.iloc[:100000,:]\n",
    "y=y[:100000]\n",
    "X.shape"
   ]
  },
  {
   "cell_type": "code",
   "execution_count": 53,
   "metadata": {},
   "outputs": [],
   "source": [
    "import pickle\n",
    "with open('X','wb') as f :\n",
    "    pickle.dump(X,f)\n",
    "with open('y','wb') as f :\n",
    "    pickle.dump(y,f)"
   ]
  },
  {
   "cell_type": "code",
   "execution_count": 8,
   "metadata": {},
   "outputs": [],
   "source": [
    "import pickle\n",
    "with open('X','rb') as f :\n",
    "    X=pickle.load(f)\n",
    "with open('y','rb') as f :\n",
    "    y=pickle.load(f)"
   ]
  },
  {
   "cell_type": "code",
   "execution_count": 9,
   "metadata": {},
   "outputs": [
    {
     "name": "stdout",
     "output_type": "stream",
     "text": [
      "(70000, 27)\n",
      "(70000,)\n",
      "(30000, 27)\n",
      "(30000,)\n"
     ]
    }
   ],
   "source": [
    "from sklearn.model_selection import train_test_split\n",
    "X_train,X_test,y_train,y_test=train_test_split(X,y,random_state=3,test_size=0.3)\n",
    "print(X_train.shape)\n",
    "print(y_train.shape)\n",
    "print(X_test.shape)\n",
    "print(y_test.shape)"
   ]
  },
  {
   "cell_type": "code",
   "execution_count": 10,
   "metadata": {},
   "outputs": [],
   "source": [
    "X_tr_ques=X_train['questions']\n",
    "X_test_ques=X_test['questions']\n",
    "X_train=X_train.drop('questions',axis=1)\n",
    "X_test=X_test.drop('questions',axis=1)\n"
   ]
  },
  {
   "cell_type": "code",
   "execution_count": 59,
   "metadata": {},
   "outputs": [],
   "source": [
    "from sklearn.feature_extraction.text import TfidfVectorizer\n",
    "from sklearn.feature_extraction.text import CountVectorizer\n",
    "\n",
    "# list_of_sentance_train=[]\n",
    "# for sentance in X_train_ques:\n",
    "#     list_of_sentance_train.append(sentance.split())\n",
    "\n",
    "tfidf = TfidfVectorizer(lowercase=False )\n",
    "tfidf.fit_transform(X_tr_ques)\n",
    "\n",
    "# dict key:word and value:tf-idf score\n",
    "word2tfidf = dict(zip(tfidf.get_feature_names(), tfidf.idf_))"
   ]
  },
  {
   "cell_type": "code",
   "execution_count": 62,
   "metadata": {},
   "outputs": [
    {
     "name": "stdout",
     "output_type": "stream",
     "text": [
      "Collecting package metadata (current_repodata.json): ...working... done\n",
      "Solving environment: ...working... done\n",
      "\n",
      "## Package Plan ##\n",
      "\n",
      "  environment location: C:\\Python\n",
      "\n",
      "  added / updated specs:\n",
      "    - spacy-model-en_core_web_sm\n",
      "\n",
      "\n",
      "The following packages will be downloaded:\n",
      "\n",
      "    package                    |            build\n",
      "    ---------------------------|-----------------\n",
      "    certifi-2019.9.11          |           py37_0         147 KB  conda-forge/label/cf202003\n",
      "    spacy-model-en_core_web_sm-2.2.5|             py_0        11.8 MB  conda-forge/label/cf202003\n",
      "    ------------------------------------------------------------\n",
      "                                           Total:        11.9 MB\n",
      "\n",
      "The following NEW packages will be INSTALLED:\n",
      "\n",
      "  spacy-model-en_co~ conda-forge/label/cf202003/noarch::spacy-model-en_core_web_sm-2.2.5-py_0\n",
      "\n",
      "The following packages will be SUPERSEDED by a higher-priority channel:\n",
      "\n",
      "  certifi                                         pkgs/main --> conda-forge/label/cf202003\n",
      "\n",
      "\n",
      "\n",
      "Downloading and Extracting Packages\n",
      "\n",
      "spacy-model-en_core_ | 11.8 MB   |            |   0% \n",
      "spacy-model-en_core_ | 11.8 MB   |            |   0% \n",
      "spacy-model-en_core_ | 11.8 MB   |            |   0% \n",
      "spacy-model-en_core_ | 11.8 MB   |            |   0% \n",
      "spacy-model-en_core_ | 11.8 MB   |            |   1% \n",
      "spacy-model-en_core_ | 11.8 MB   | 1          |   1% \n",
      "spacy-model-en_core_ | 11.8 MB   | 2          |   2% \n",
      "spacy-model-en_core_ | 11.8 MB   | 3          |   3% \n",
      "spacy-model-en_core_ | 11.8 MB   | 3          |   4% \n",
      "spacy-model-en_core_ | 11.8 MB   | 4          |   5% \n",
      "spacy-model-en_core_ | 11.8 MB   | 5          |   5% \n",
      "spacy-model-en_core_ | 11.8 MB   | 6          |   6% \n",
      "spacy-model-en_core_ | 11.8 MB   | 6          |   7% \n",
      "spacy-model-en_core_ | 11.8 MB   | 7          |   7% \n",
      "spacy-model-en_core_ | 11.8 MB   | 7          |   8% \n",
      "spacy-model-en_core_ | 11.8 MB   | 8          |   8% \n",
      "spacy-model-en_core_ | 11.8 MB   | 9          |   9% \n",
      "spacy-model-en_core_ | 11.8 MB   | 9          |  10% \n",
      "spacy-model-en_core_ | 11.8 MB   | #          |  10% \n",
      "spacy-model-en_core_ | 11.8 MB   | #          |  11% \n",
      "spacy-model-en_core_ | 11.8 MB   | #1         |  11% \n",
      "spacy-model-en_core_ | 11.8 MB   | #1         |  12% \n",
      "spacy-model-en_core_ | 11.8 MB   | #1         |  12% \n",
      "spacy-model-en_core_ | 11.8 MB   | #2         |  12% \n",
      "spacy-model-en_core_ | 11.8 MB   | #2         |  13% \n",
      "spacy-model-en_core_ | 11.8 MB   | #2         |  13% \n",
      "spacy-model-en_core_ | 11.8 MB   | #3         |  13% \n",
      "spacy-model-en_core_ | 11.8 MB   | #3         |  14% \n",
      "spacy-model-en_core_ | 11.8 MB   | #3         |  14% \n",
      "spacy-model-en_core_ | 11.8 MB   | #4         |  14% \n",
      "spacy-model-en_core_ | 11.8 MB   | #4         |  14% \n",
      "spacy-model-en_core_ | 11.8 MB   | #5         |  15% \n",
      "spacy-model-en_core_ | 11.8 MB   | #5         |  16% \n",
      "spacy-model-en_core_ | 11.8 MB   | #6         |  16% \n",
      "spacy-model-en_core_ | 11.8 MB   | #6         |  16% \n",
      "spacy-model-en_core_ | 11.8 MB   | #6         |  17% \n",
      "spacy-model-en_core_ | 11.8 MB   | #6         |  17% \n",
      "spacy-model-en_core_ | 11.8 MB   | #7         |  17% \n",
      "spacy-model-en_core_ | 11.8 MB   | #7         |  17% \n",
      "spacy-model-en_core_ | 11.8 MB   | #7         |  18% \n",
      "spacy-model-en_core_ | 11.8 MB   | #7         |  18% \n",
      "spacy-model-en_core_ | 11.8 MB   | #8         |  18% \n",
      "spacy-model-en_core_ | 11.8 MB   | #8         |  19% \n",
      "spacy-model-en_core_ | 11.8 MB   | #8         |  19% \n",
      "spacy-model-en_core_ | 11.8 MB   | #9         |  19% \n",
      "spacy-model-en_core_ | 11.8 MB   | #9         |  20% \n",
      "spacy-model-en_core_ | 11.8 MB   | ##         |  20% \n",
      "spacy-model-en_core_ | 11.8 MB   | ##         |  20% \n",
      "spacy-model-en_core_ | 11.8 MB   | ##         |  21% \n",
      "spacy-model-en_core_ | 11.8 MB   | ##1        |  21% \n",
      "spacy-model-en_core_ | 11.8 MB   | ##1        |  22% \n",
      "spacy-model-en_core_ | 11.8 MB   | ##2        |  22% \n",
      "spacy-model-en_core_ | 11.8 MB   | ##2        |  22% \n",
      "spacy-model-en_core_ | 11.8 MB   | ##2        |  23% \n",
      "spacy-model-en_core_ | 11.8 MB   | ##2        |  23% \n",
      "spacy-model-en_core_ | 11.8 MB   | ##3        |  23% \n",
      "spacy-model-en_core_ | 11.8 MB   | ##3        |  24% \n",
      "spacy-model-en_core_ | 11.8 MB   | ##3        |  24% \n",
      "spacy-model-en_core_ | 11.8 MB   | ##4        |  24% \n",
      "spacy-model-en_core_ | 11.8 MB   | ##4        |  25% \n",
      "spacy-model-en_core_ | 11.8 MB   | ##5        |  25% \n",
      "spacy-model-en_core_ | 11.8 MB   | ##5        |  26% \n",
      "spacy-model-en_core_ | 11.8 MB   | ##5        |  26% \n",
      "spacy-model-en_core_ | 11.8 MB   | ##6        |  26% \n",
      "spacy-model-en_core_ | 11.8 MB   | ##6        |  27% \n",
      "spacy-model-en_core_ | 11.8 MB   | ##7        |  27% \n",
      "spacy-model-en_core_ | 11.8 MB   | ##7        |  27% \n",
      "spacy-model-en_core_ | 11.8 MB   | ##7        |  28% \n",
      "spacy-model-en_core_ | 11.8 MB   | ##8        |  28% \n",
      "spacy-model-en_core_ | 11.8 MB   | ##8        |  28% \n",
      "spacy-model-en_core_ | 11.8 MB   | ##8        |  29% \n",
      "spacy-model-en_core_ | 11.8 MB   | ##9        |  29% \n",
      "spacy-model-en_core_ | 11.8 MB   | ##9        |  30% \n",
      "spacy-model-en_core_ | 11.8 MB   | ###        |  30% \n",
      "spacy-model-en_core_ | 11.8 MB   | ###        |  30% \n",
      "spacy-model-en_core_ | 11.8 MB   | ###        |  31% \n",
      "spacy-model-en_core_ | 11.8 MB   | ###1       |  31% \n",
      "spacy-model-en_core_ | 11.8 MB   | ###1       |  32% \n",
      "spacy-model-en_core_ | 11.8 MB   | ###2       |  32% \n",
      "spacy-model-en_core_ | 11.8 MB   | ###2       |  33% \n",
      "spacy-model-en_core_ | 11.8 MB   | ###3       |  33% \n",
      "spacy-model-en_core_ | 11.8 MB   | ###3       |  34% \n",
      "spacy-model-en_core_ | 11.8 MB   | ###4       |  34% \n",
      "spacy-model-en_core_ | 11.8 MB   | ###4       |  35% \n",
      "spacy-model-en_core_ | 11.8 MB   | ###5       |  35% \n",
      "spacy-model-en_core_ | 11.8 MB   | ###5       |  36% \n",
      "spacy-model-en_core_ | 11.8 MB   | ###6       |  36% \n",
      "spacy-model-en_core_ | 11.8 MB   | ###7       |  38% \n",
      "spacy-model-en_core_ | 11.8 MB   | ###8       |  38% \n",
      "spacy-model-en_core_ | 11.8 MB   | ###8       |  39% \n",
      "spacy-model-en_core_ | 11.8 MB   | ###9       |  40% \n",
      "spacy-model-en_core_ | 11.8 MB   | ####       |  40% \n",
      "spacy-model-en_core_ | 11.8 MB   | ####       |  41% \n",
      "spacy-model-en_core_ | 11.8 MB   | ####1      |  41% \n",
      "spacy-model-en_core_ | 11.8 MB   | ####1      |  42% \n",
      "spacy-model-en_core_ | 11.8 MB   | ####2      |  42% \n",
      "spacy-model-en_core_ | 11.8 MB   | ####2      |  43% \n",
      "spacy-model-en_core_ | 11.8 MB   | ####3      |  43% \n",
      "spacy-model-en_core_ | 11.8 MB   | ####4      |  45% \n",
      "spacy-model-en_core_ | 11.8 MB   | ####5      |  45% \n",
      "spacy-model-en_core_ | 11.8 MB   | ####5      |  46% \n",
      "spacy-model-en_core_ | 11.8 MB   | ####6      |  46% \n",
      "spacy-model-en_core_ | 11.8 MB   | ####6      |  47% \n",
      "spacy-model-en_core_ | 11.8 MB   | ####7      |  47% \n",
      "spacy-model-en_core_ | 11.8 MB   | ####7      |  48% \n",
      "spacy-model-en_core_ | 11.8 MB   | ####8      |  48% \n",
      "spacy-model-en_core_ | 11.8 MB   | ####8      |  49% \n",
      "spacy-model-en_core_ | 11.8 MB   | ####9      |  49% \n",
      "spacy-model-en_core_ | 11.8 MB   | #####      |  50% \n",
      "spacy-model-en_core_ | 11.8 MB   | #####      |  51% \n",
      "spacy-model-en_core_ | 11.8 MB   | #####1     |  51% \n",
      "spacy-model-en_core_ | 11.8 MB   | #####1     |  52% \n",
      "spacy-model-en_core_ | 11.8 MB   | #####2     |  52% \n",
      "spacy-model-en_core_ | 11.8 MB   | #####2     |  53% \n",
      "spacy-model-en_core_ | 11.8 MB   | #####3     |  53% \n",
      "spacy-model-en_core_ | 11.8 MB   | #####3     |  54% \n",
      "spacy-model-en_core_ | 11.8 MB   | #####3     |  54% \n",
      "spacy-model-en_core_ | 11.8 MB   | #####4     |  54% \n",
      "spacy-model-en_core_ | 11.8 MB   | #####4     |  55% \n",
      "spacy-model-en_core_ | 11.8 MB   | #####5     |  55% \n",
      "spacy-model-en_core_ | 11.8 MB   | #####5     |  56% \n",
      "spacy-model-en_core_ | 11.8 MB   | #####5     |  56% \n",
      "spacy-model-en_core_ | 11.8 MB   | #####6     |  56% \n",
      "spacy-model-en_core_ | 11.8 MB   | #####6     |  57% \n",
      "spacy-model-en_core_ | 11.8 MB   | #####7     |  57% \n",
      "spacy-model-en_core_ | 11.8 MB   | #####7     |  58% \n",
      "spacy-model-en_core_ | 11.8 MB   | #####8     |  58% \n",
      "spacy-model-en_core_ | 11.8 MB   | #####8     |  58% \n",
      "spacy-model-en_core_ | 11.8 MB   | #####8     |  59% \n",
      "spacy-model-en_core_ | 11.8 MB   | #####9     |  59% \n",
      "spacy-model-en_core_ | 11.8 MB   | #####9     |  60% \n",
      "spacy-model-en_core_ | 11.8 MB   | ######     |  60% \n",
      "spacy-model-en_core_ | 11.8 MB   | ######     |  61% \n",
      "spacy-model-en_core_ | 11.8 MB   | ######1    |  61% \n",
      "spacy-model-en_core_ | 11.8 MB   | ######1    |  62% \n",
      "spacy-model-en_core_ | 11.8 MB   | ######1    |  62% \n",
      "spacy-model-en_core_ | 11.8 MB   | ######2    |  62% \n",
      "spacy-model-en_core_ | 11.8 MB   | ######2    |  63% \n",
      "spacy-model-en_core_ | 11.8 MB   | ######3    |  63% \n",
      "spacy-model-en_core_ | 11.8 MB   | ######3    |  63% \n",
      "spacy-model-en_core_ | 11.8 MB   | ######3    |  64% \n",
      "spacy-model-en_core_ | 11.8 MB   | ######4    |  64% \n",
      "spacy-model-en_core_ | 11.8 MB   | ######4    |  65% \n",
      "spacy-model-en_core_ | 11.8 MB   | ######5    |  65% \n",
      "spacy-model-en_core_ | 11.8 MB   | ######5    |  66% \n",
      "spacy-model-en_core_ | 11.8 MB   | ######6    |  66% \n",
      "spacy-model-en_core_ | 11.8 MB   | ######6    |  67% \n",
      "spacy-model-en_core_ | 11.8 MB   | ######7    |  67% \n",
      "spacy-model-en_core_ | 11.8 MB   | ######7    |  67% \n",
      "spacy-model-en_core_ | 11.8 MB   | ######8    |  68% \n",
      "spacy-model-en_core_ | 11.8 MB   | ######8    |  69% \n",
      "spacy-model-en_core_ | 11.8 MB   | ######9    |  69% \n",
      "spacy-model-en_core_ | 11.8 MB   | ######9    |  70% \n",
      "spacy-model-en_core_ | 11.8 MB   | #######    |  70% \n",
      "spacy-model-en_core_ | 11.8 MB   | #######    |  71% \n",
      "spacy-model-en_core_ | 11.8 MB   | #######1   |  71% \n",
      "spacy-model-en_core_ | 11.8 MB   | #######1   |  71% \n",
      "spacy-model-en_core_ | 11.8 MB   | #######1   |  72% \n",
      "spacy-model-en_core_ | 11.8 MB   | #######2   |  72% \n",
      "spacy-model-en_core_ | 11.8 MB   | #######2   |  73% \n",
      "spacy-model-en_core_ | 11.8 MB   | #######2   |  73% \n",
      "spacy-model-en_core_ | 11.8 MB   | #######3   |  73% \n",
      "spacy-model-en_core_ | 11.8 MB   | #######3   |  74% \n",
      "spacy-model-en_core_ | 11.8 MB   | #######4   |  74% \n",
      "spacy-model-en_core_ | 11.8 MB   | #######4   |  74% \n",
      "spacy-model-en_core_ | 11.8 MB   | #######4   |  75% \n",
      "spacy-model-en_core_ | 11.8 MB   | #######5   |  75% \n",
      "spacy-model-en_core_ | 11.8 MB   | #######6   |  76% \n",
      "spacy-model-en_core_ | 11.8 MB   | #######6   |  77% \n",
      "spacy-model-en_core_ | 11.8 MB   | #######7   |  77% \n",
      "spacy-model-en_core_ | 11.8 MB   | #######7   |  78% \n",
      "spacy-model-en_core_ | 11.8 MB   | #######7   |  78% \n",
      "spacy-model-en_core_ | 11.8 MB   | #######8   |  78% \n",
      "spacy-model-en_core_ | 11.8 MB   | #######8   |  79% \n",
      "spacy-model-en_core_ | 11.8 MB   | #######9   |  79% \n",
      "spacy-model-en_core_ | 11.8 MB   | #######9   |  79% \n",
      "spacy-model-en_core_ | 11.8 MB   | #######9   |  80% \n",
      "spacy-model-en_core_ | 11.8 MB   | #######9   |  80% \n",
      "spacy-model-en_core_ | 11.8 MB   | ########   |  80% \n",
      "spacy-model-en_core_ | 11.8 MB   | ########   |  81% \n",
      "spacy-model-en_core_ | 11.8 MB   | ########1  |  81% \n",
      "spacy-model-en_core_ | 11.8 MB   | ########1  |  81% \n",
      "spacy-model-en_core_ | 11.8 MB   | ########1  |  82% \n",
      "spacy-model-en_core_ | 11.8 MB   | ########1  |  82% \n",
      "spacy-model-en_core_ | 11.8 MB   | ########2  |  82% \n",
      "spacy-model-en_core_ | 11.8 MB   | ########2  |  83% \n",
      "spacy-model-en_core_ | 11.8 MB   | ########2  |  83% \n",
      "spacy-model-en_core_ | 11.8 MB   | ########3  |  83% \n",
      "spacy-model-en_core_ | 11.8 MB   | ########3  |  84% \n",
      "spacy-model-en_core_ | 11.8 MB   | ########3  |  84% \n",
      "spacy-model-en_core_ | 11.8 MB   | ########4  |  84% \n",
      "spacy-model-en_core_ | 11.8 MB   | ########4  |  85% \n",
      "spacy-model-en_core_ | 11.8 MB   | ########5  |  85% \n",
      "spacy-model-en_core_ | 11.8 MB   | ########5  |  85% \n",
      "spacy-model-en_core_ | 11.8 MB   | ########5  |  86% \n",
      "spacy-model-en_core_ | 11.8 MB   | ########6  |  86% \n",
      "spacy-model-en_core_ | 11.8 MB   | ########6  |  87% \n",
      "spacy-model-en_core_ | 11.8 MB   | ########7  |  87% \n",
      "spacy-model-en_core_ | 11.8 MB   | ########7  |  88% \n",
      "spacy-model-en_core_ | 11.8 MB   | ########8  |  88% \n",
      "spacy-model-en_core_ | 11.8 MB   | ########8  |  88% \n",
      "spacy-model-en_core_ | 11.8 MB   | ########8  |  89% \n",
      "spacy-model-en_core_ | 11.8 MB   | ########9  |  89% \n",
      "spacy-model-en_core_ | 11.8 MB   | ########9  |  90% \n",
      "spacy-model-en_core_ | 11.8 MB   | #########  |  90% \n",
      "spacy-model-en_core_ | 11.8 MB   | #########  |  90% \n",
      "spacy-model-en_core_ | 11.8 MB   | #########  |  91% \n",
      "spacy-model-en_core_ | 11.8 MB   | #########1 |  91% \n",
      "spacy-model-en_core_ | 11.8 MB   | #########1 |  92% \n",
      "spacy-model-en_core_ | 11.8 MB   | #########1 |  92% \n",
      "spacy-model-en_core_ | 11.8 MB   | #########2 |  92% \n",
      "spacy-model-en_core_ | 11.8 MB   | #########2 |  93% \n",
      "spacy-model-en_core_ | 11.8 MB   | #########3 |  93% \n",
      "spacy-model-en_core_ | 11.8 MB   | #########3 |  94% \n",
      "spacy-model-en_core_ | 11.8 MB   | #########4 |  95% \n",
      "spacy-model-en_core_ | 11.8 MB   | #########5 |  95% \n",
      "spacy-model-en_core_ | 11.8 MB   | #########5 |  96% \n",
      "spacy-model-en_core_ | 11.8 MB   | #########6 |  97% \n",
      "spacy-model-en_core_ | 11.8 MB   | #########7 |  97% \n",
      "spacy-model-en_core_ | 11.8 MB   | #########8 |  98% \n",
      "spacy-model-en_core_ | 11.8 MB   | #########8 |  99% \n",
      "spacy-model-en_core_ | 11.8 MB   | #########9 | 100% \n",
      "spacy-model-en_core_ | 11.8 MB   | ########## | 100% \n",
      "\n",
      "certifi-2019.9.11    | 147 KB    |            |   0% \n",
      "certifi-2019.9.11    | 147 KB    | #          |  11% \n",
      "certifi-2019.9.11    | 147 KB    | ########## | 100% \n",
      "certifi-2019.9.11    | 147 KB    | ########## | 100% \n",
      "Preparing transaction: ...working... done\n",
      "Verifying transaction: ...working... done\n",
      "Executing transaction: ...working... done\n",
      "\n",
      "Note: you may need to restart the kernel to use updated packages.\n"
     ]
    }
   ],
   "source": [
    "conda install -c conda-forge/label/cf202003 spacy-model-en_core_web_sm"
   ]
  },
  {
   "cell_type": "code",
   "execution_count": 17,
   "metadata": {},
   "outputs": [
    {
     "name": "stderr",
     "output_type": "stream",
     "text": [
      "100%|██████████| 70000/70000 [11:46<00:00, 99.07it/s] \n"
     ]
    }
   ],
   "source": [
    "import spacy\n",
    "nlp = spacy.load('en_core_web_sm')\n",
    "\n",
    "vecs1 = []\n",
    "# https://github.com/noamraph/tqdm\n",
    "# tqdm is used to print the progress bar\n",
    "for qu1 in tqdm(list(X_tr_ques)):\n",
    "    doc1 = nlp(qu1) \n",
    "    # 384 is the number of dimensions of vectors \n",
    "    mean_vec1 = np.zeros([len(doc1), len(doc1[0].vector)])\n",
    "    for word1 in doc1:\n",
    "        # word2vec\n",
    "        vec1 = word1.vector\n",
    "        # fetch df score\n",
    "        try:\n",
    "            idf = word2tfidf[str(word1)]\n",
    "        except:\n",
    "            idf = 0\n",
    "        # compute final vec\n",
    "        mean_vec1 += vec1 * idf\n",
    "    mean_vec1 = mean_vec1.mean(axis=0)\n",
    "    vecs1.append(mean_vec1)"
   ]
  },
  {
   "cell_type": "code",
   "execution_count": 23,
   "metadata": {},
   "outputs": [
    {
     "name": "stderr",
     "output_type": "stream",
     "text": [
      "100%|██████████| 30000/30000 [04:58<00:00, 100.66it/s]\n"
     ]
    }
   ],
   "source": [
    "vecs2 = []\n",
    "for qu2 in tqdm(list(X_test_ques)):\n",
    "    doc2 = nlp(qu2) \n",
    "    mean_vec2 = np.zeros([len(doc2),len(doc2[0].vector) ])\n",
    "    for word2 in doc2:\n",
    "        # word2vec\n",
    "        vec2 = word2.vector\n",
    "        # fetch df score\n",
    "        try:\n",
    "            idf = word2tfidf[str(word2)]\n",
    "        except:\n",
    "            #print word\n",
    "            idf = 0\n",
    "        # compute final vec\n",
    "        mean_vec2 += vec2 * idf\n",
    "    mean_vec2 = mean_vec2.mean(axis=0)\n",
    "    vecs2.append(mean_vec2)"
   ]
  },
  {
   "cell_type": "code",
   "execution_count": 62,
   "metadata": {},
   "outputs": [
    {
     "data": {
      "text/plain": [
       "(70000, 96)"
      ]
     },
     "execution_count": 62,
     "metadata": {},
     "output_type": "execute_result"
    }
   ],
   "source": [
    "first_df=pd.DataFrame(vecs1)\n",
    "sec_df=pd.DataFrame(vecs2)\n",
    "first_df.shape"
   ]
  },
  {
   "cell_type": "code",
   "execution_count": 79,
   "metadata": {},
   "outputs": [],
   "source": [
    "X_train=np.array(X_train)\n",
    "X_test=np.array(X_test)"
   ]
  },
  {
   "cell_type": "code",
   "execution_count": 80,
   "metadata": {},
   "outputs": [],
   "source": [
    "from scipy.sparse import hstack\n",
    "\n",
    "X_train_w2v = np.vstack((np.transpose(X_train),np.transpose(vecs1))).T\n",
    "X_test_w2v=np.vstack((np.transpose(X_test),np.transpose(vecs2))).T \n"
   ]
  },
  {
   "cell_type": "code",
   "execution_count": 85,
   "metadata": {},
   "outputs": [],
   "source": [
    "with open('X_train_w2v','wb') as f :\n",
    "    pickle.dump(X_train_w2v,f)\n",
    "with open('X_test_w2v','wb') as f :\n",
    "    pickle.dump(X_test_w2v,f)"
   ]
  },
  {
   "cell_type": "markdown",
   "metadata": {
    "colab_type": "text",
    "id": "ZihvUPvHtARd"
   },
   "source": [
    "<h1>4. Machine Learning Models </h1>"
   ]
  },
  {
   "cell_type": "code",
   "execution_count": 11,
   "metadata": {
    "colab": {},
    "colab_type": "code",
    "id": "0oDV15LJtASY",
    "outputId": "70a1e4eb-3f31-4f1e-a53b-ad972978505d"
   },
   "outputs": [
    {
     "name": "stdout",
     "output_type": "stream",
     "text": [
      "---------- Distribution of output variable in train data ----------\n",
      "Class 0:  0.6259714285714286 Class 1:  0.37402857142857143\n",
      "---------- Distribution of output variable in train data ----------\n",
      "Class 0:  0.36906666666666665 Class 1:  0.36906666666666665\n"
     ]
    }
   ],
   "source": [
    "print(\"-\"*10, \"Distribution of output variable in train data\", \"-\"*10)\n",
    "train_distr = Counter(y_train)\n",
    "train_len = len(y_train)\n",
    "print(\"Class 0: \",int(train_distr[0])/train_len,\"Class 1: \", int(train_distr[1])/train_len)\n",
    "print(\"-\"*10, \"Distribution of output variable in train data\", \"-\"*10)\n",
    "test_distr = Counter(y_test)\n",
    "test_len = len(y_test)\n",
    "print(\"Class 0: \",int(test_distr[1])/test_len, \"Class 1: \",int(test_distr[1])/test_len)"
   ]
  },
  {
   "cell_type": "code",
   "execution_count": 12,
   "metadata": {
    "colab": {},
    "colab_type": "code",
    "id": "XfxcPT6jtASg"
   },
   "outputs": [],
   "source": [
    "# This function plots the confusion matrices given y_i, y_i_hat.\n",
    "def plot_confusion_matrix(test_y, predict_y):\n",
    "    C = confusion_matrix(test_y, predict_y)\n",
    "    # C = 9,9 matrix, each cell (i,j) represents number of points of class i are predicted class j\n",
    "    \n",
    "    A =(((C.T)/(C.sum(axis=1))).T)\n",
    "    #divid each element of the confusion matrix with the sum of elements in that column\n",
    "    \n",
    "    # C = [[1, 2],\n",
    "    #     [3, 4]]\n",
    "    # C.T = [[1, 3],\n",
    "    #        [2, 4]]\n",
    "    # C.sum(axis = 1)  axis=0 corresonds to columns and axis=1 corresponds to rows in two diamensional array\n",
    "    # C.sum(axix =1) = [[3, 7]]\n",
    "    # ((C.T)/(C.sum(axis=1))) = [[1/3, 3/7]\n",
    "    #                           [2/3, 4/7]]\n",
    "\n",
    "    # ((C.T)/(C.sum(axis=1))).T = [[1/3, 2/3]\n",
    "    #                           [3/7, 4/7]]\n",
    "    # sum of row elements = 1\n",
    "    \n",
    "    B =(C/C.sum(axis=0))\n",
    "    #divid each element of the confusion matrix with the sum of elements in that row\n",
    "    # C = [[1, 2],\n",
    "    #     [3, 4]]\n",
    "    # C.sum(axis = 0)  axis=0 corresonds to columns and axis=1 corresponds to rows in two diamensional array\n",
    "    # C.sum(axix =0) = [[4, 6]]\n",
    "    # (C/C.sum(axis=0)) = [[1/4, 2/6],\n",
    "    #                      [3/4, 4/6]] \n",
    "    plt.figure(figsize=(20,4))\n",
    "    \n",
    "    labels = [1,2]\n",
    "    # representing A in heatmap format\n",
    "    cmap=sns.light_palette(\"blue\")\n",
    "    plt.subplot(1, 3, 1)\n",
    "    sns.heatmap(C, annot=True, cmap=cmap, fmt=\".3f\", xticklabels=labels, yticklabels=labels)\n",
    "    plt.xlabel('Predicted Class')\n",
    "    plt.ylabel('Original Class')\n",
    "    plt.title(\"Confusion matrix\")\n",
    "    b, t = plt.ylim() # discover the values for bottom and top\n",
    "    b += 0.5 # Add 0.5 to the bottom\n",
    "    t -= 0.5 # Subtract 0.5 from the top\n",
    "    plt.ylim(b, t) # update the ylim(bottom, top) values\n",
    "    \n",
    "    plt.subplot(1, 3, 2)\n",
    "    sns.heatmap(B, annot=True, cmap=cmap, fmt=\".3f\", xticklabels=labels, yticklabels=labels)\n",
    "    plt.xlabel('Predicted Class')\n",
    "    plt.ylabel('Original Class')\n",
    "    plt.title(\"Precision matrix\")\n",
    "    b, t = plt.ylim() # discover the values for bottom and top\n",
    "    b += 0.5 # Add 0.5 to the bottom\n",
    "    t -= 0.5 # Subtract 0.5 from the top\n",
    "    plt.ylim(b, t) # update the ylim(bottom, top) values\n",
    "    \n",
    "    plt.subplot(1, 3, 3)\n",
    "    # representing B in heatmap format\n",
    "    sns.heatmap(A, annot=True, cmap=cmap, fmt=\".3f\", xticklabels=labels, yticklabels=labels)\n",
    "    plt.xlabel('Predicted Class')\n",
    "    plt.ylabel('Original Class')\n",
    "    plt.title(\"Recall matrix\")\n",
    "    b, t = plt.ylim() # discover the values for bottom and top\n",
    "    b += 0.5 # Add 0.5 to the bottom\n",
    "    t -= 0.5 # Subtract 0.5 from the top\n",
    "    plt.ylim(b, t) # update the ylim(bottom, top) values\n",
    "    plt.show()\n",
    "    \n",
    "   "
   ]
  },
  {
   "cell_type": "markdown",
   "metadata": {
    "colab_type": "text",
    "id": "UStQJ5F_tASk"
   },
   "source": [
    "<h2> 4.4 Building a random model (Finding worst-case log-loss) </h2>"
   ]
  },
  {
   "cell_type": "code",
   "execution_count": 13,
   "metadata": {
    "colab": {},
    "colab_type": "code",
    "id": "qwMDqcU7tASl",
    "outputId": "c1e90d53-25ec-445b-e33a-299538520e32"
   },
   "outputs": [
    {
     "name": "stdout",
     "output_type": "stream",
     "text": [
      "Log loss on Test Data using Random Model 0.8897821215544328\n",
      "[[0.38994698 0.61005302]\n",
      " [0.22033771 0.77966229]\n",
      " [0.3697519  0.6302481 ]\n",
      " ...\n",
      " [0.54551315 0.45448685]\n",
      " [0.00840116 0.99159884]\n",
      " [0.4613665  0.5386335 ]]\n"
     ]
    },
    {
     "data": {
      "image/png": "[encoded data removed]",
      "text/plain": [
       "<Figure size 1440x288 with 6 Axes>"
      ]
     },
     "metadata": {
      "needs_background": "light"
     },
     "output_type": "display_data"
    }
   ],
   "source": [
    "# we need to generate 9 numbers and the sum of numbers should be 1\n",
    "# one solution is to genarate 9 numbers and divide each of the numbers by their sum\n",
    "# ref: https://stackoverflow.com/a/18662466/4084039\n",
    "# we create a output array that has exactly same size as the CV data\n",
    "from sklearn.metrics import confusion_matrix\n",
    "\n",
    "predicted_y = np.zeros((test_len,2))\n",
    "for i in range(test_len):\n",
    "    rand_probs = np.random.rand(1,2)\n",
    "    predicted_y[i] = ((rand_probs/sum(sum(rand_probs)))[0])\n",
    "print(\"Log loss on Test Data using Random Model\",log_loss(y_test, predicted_y, eps=1e-15))\n",
    "print(predicted_y)\n",
    "predicted_y =np.argmax(predicted_y, axis=1)\n",
    "plot_confusion_matrix(y_test, predicted_y)"
   ]
  },
  {
   "cell_type": "markdown",
   "metadata": {
    "colab_type": "text",
    "id": "YgY29g_qtASq"
   },
   "source": [
    "<h2> 4.4 Logistic Regression with hyperparameter tuning </h2>"
   ]
  },
  {
   "cell_type": "code",
   "execution_count": 14,
   "metadata": {
    "colab": {},
    "colab_type": "code",
    "id": "Wb2tOE3GtASr",
    "outputId": "d7e4fc88-7d4e-4313-cda7-462a2409292e"
   },
   "outputs": [],
   "source": [
    "def log_reg(X_train,X_test,y_train,y_test):\n",
    "    alpha = [10 ** x for x in range(-5, 2)] # hyperparam for SGD classifier.\n",
    "\n",
    "    # read more about SGDClassifier() at http://scikit-learn.org/stable/modules/generated/sklearn.linear_model.SGDClassifier.html\n",
    "    # ------------------------------\n",
    "    # default parameters\n",
    "    # SGDClassifier(loss=’hinge’, penalty=’l2’, alpha=0.0001, l1_ratio=0.15, fit_intercept=True, max_iter=None, tol=None, \n",
    "    # shuffle=True, verbose=0, epsilon=0.1, n_jobs=1, random_state=None, learning_rate=’optimal’, eta0=0.0, power_t=0.5, \n",
    "    # class_weight=None, warm_start=False, average=False, n_iter=None)\n",
    "\n",
    "    # some of methods\n",
    "    # fit(X, y[, coef_init, intercept_init, …])\tFit linear model with Stochastic Gradient Descent.\n",
    "    # predict(X)\tPredict class labels for samples in X.\n",
    "\n",
    "    #-------------------------------\n",
    "    # video link: \n",
    "    #------------------------------\n",
    "\n",
    "\n",
    "    log_error_array=[]\n",
    "    for i in alpha:\n",
    "        clf = SGDClassifier(alpha=i, penalty='l2', loss='log', random_state=42)\n",
    "        clf.fit(X_train, y_train)\n",
    "        sig_clf = CalibratedClassifierCV(clf, method=\"sigmoid\")\n",
    "        sig_clf.fit(X_train, y_train)\n",
    "        predict_y = sig_clf.predict_proba(X_test)\n",
    "        log_error_array.append(log_loss(y_test, predict_y, labels=clf.classes_, eps=1e-15))\n",
    "        print('For values of alpha = ', i, \"The log loss is:\",log_loss(y_test, predict_y, labels=clf.classes_, eps=1e-15))\n",
    "\n",
    "    fig, ax = plt.subplots()\n",
    "    ax.plot(alpha, log_error_array,c='g')\n",
    "    for i, txt in enumerate(np.round(log_error_array,3)):\n",
    "        ax.annotate((alpha[i],np.round(txt,3)), (alpha[i],log_error_array[i]))\n",
    "    plt.grid()\n",
    "    plt.title(\"Cross Validation Error for each alpha\")\n",
    "    plt.xlabel(\"Alpha i's\")\n",
    "    plt.ylabel(\"Error measure\")\n",
    "    plt.show()\n",
    "\n",
    "\n",
    "    best_alpha = np.argmin(log_error_array)\n",
    "    clf = SGDClassifier(alpha=alpha[best_alpha], penalty='l2', loss='log', random_state=42)\n",
    "    clf.fit(X_train, y_train)\n",
    "    sig_clf = CalibratedClassifierCV(clf, method=\"sigmoid\")\n",
    "    sig_clf.fit(X_train, y_train)\n",
    "\n",
    "    predict_y = sig_clf.predict_proba(X_train)\n",
    "    print('For values of best alpha = ', alpha[best_alpha], \"The train log loss is:\",log_loss(y_train, predict_y, labels=clf.classes_, eps=1e-15))\n",
    "    predict_y = sig_clf.predict_proba(X_test)\n",
    "    print('For values of best alpha = ', alpha[best_alpha], \"The test log loss is:\",log_loss(y_test, predict_y, labels=clf.classes_, eps=1e-15))\n",
    "    predicted_y =sig_clf.predict(X_test)\n",
    "    print(\"Total number of data points :\", len(predicted_y))\n",
    "    plot_confusion_matrix(y_test, predicted_y)"
   ]
  },
  {
   "cell_type": "markdown",
   "metadata": {},
   "source": [
    "### Logistic Regression -TFIDFW2V"
   ]
  },
  {
   "cell_type": "code",
   "execution_count": 109,
   "metadata": {},
   "outputs": [
    {
     "name": "stdout",
     "output_type": "stream",
     "text": [
      "For values of alpha =  1e-05 The log loss is: 0.5667606442214067\n",
      "For values of alpha =  0.0001 The log loss is: 0.4582241516709656\n",
      "For values of alpha =  0.001 The log loss is: 0.4556018099548582\n",
      "For values of alpha =  0.01 The log loss is: 0.46106309303804155\n",
      "For values of alpha =  0.1 The log loss is: 0.4643902610208294\n",
      "For values of alpha =  1 The log loss is: 0.48790215631332234\n",
      "For values of alpha =  10 The log loss is: 0.5417098246282454\n"
     ]
    },
    {
     "data": {
      "image/png": "[encoded data removed]",
      "text/plain": [
       "<Figure size 432x288 with 1 Axes>"
      ]
     },
     "metadata": {
      "needs_background": "light"
     },
     "output_type": "display_data"
    },
    {
     "name": "stdout",
     "output_type": "stream",
     "text": [
      "For values of best alpha =  0.001 The train log loss is: 0.45423099285637963\n",
      "For values of best alpha =  0.001 The test log loss is: 0.4556018099548582\n",
      "Total number of data points : 30000\n"
     ]
    },
    {
     "data": {
      "image/png": "[encoded data removed]",
      "text/plain": [
       "<Figure size 1440x288 with 6 Axes>"
      ]
     },
     "metadata": {
      "needs_background": "light"
     },
     "output_type": "display_data"
    }
   ],
   "source": [
    "# runnining the logistic regression function\n",
    "log_reg(X_train_w2v,X_test_w2v,y_train,y_test)"
   ]
  },
  {
   "cell_type": "markdown",
   "metadata": {
    "colab_type": "text",
    "id": "ouQSEnr3tASy"
   },
   "source": [
    "<h2> 4.5 Linear SVM with hyperparameter tuning </h2>"
   ]
  },
  {
   "cell_type": "code",
   "execution_count": 15,
   "metadata": {
    "colab": {},
    "colab_type": "code",
    "id": "AOFfZ5PLtAS0",
    "outputId": "d31eb598-e275-48cb-c49b-98e9eb76d8ba"
   },
   "outputs": [],
   "source": [
    "def lr_svm(X_train,X_test,y_train,y_test):\n",
    "    alpha = [10 ** x for x in range(-5, 2)] # hyperparam for SGD classifier.\n",
    "\n",
    "    # read more about SGDClassifier() at http://scikit-learn.org/stable/modules/generated/sklearn.linear_model.SGDClassifier.html\n",
    "    # ------------------------------\n",
    "    # default parameters\n",
    "    # SGDClassifier(loss=’hinge’, penalty=’l2’, alpha=0.0001, l1_ratio=0.15, fit_intercept=True, max_iter=None, tol=None, \n",
    "    # shuffle=True, verbose=0, epsilon=0.1, n_jobs=1, random_state=None, learning_rate=’optimal’, eta0=0.0, power_t=0.5, \n",
    "    # class_weight=None, warm_start=False, average=False, n_iter=None)\n",
    "\n",
    "    # some of methods\n",
    "    # fit(X, y[, coef_init, intercept_init, …])\tFit linear model with Stochastic Gradient Descent.\n",
    "    # predict(X)\tPredict class labels for samples in X.\n",
    "\n",
    "    #-------------------------------\n",
    "    # video link: \n",
    "    #------------------------------\n",
    "\n",
    "\n",
    "    log_error_array=[]\n",
    "    for i in alpha:\n",
    "        clf = SGDClassifier(alpha=i, penalty='l1', loss='hinge', random_state=42)\n",
    "        clf.fit(X_train, y_train)\n",
    "        sig_clf = CalibratedClassifierCV(clf, method=\"sigmoid\")\n",
    "        sig_clf.fit(X_train, y_train)\n",
    "        predict_y = sig_clf.predict_proba(X_test)\n",
    "        log_error_array.append(log_loss(y_test, predict_y, labels=clf.classes_, eps=1e-15))\n",
    "        print('For values of alpha = ', i, \"The log loss is:\",log_loss(y_test, predict_y, labels=clf.classes_, eps=1e-15))\n",
    "\n",
    "    fig, ax = plt.subplots()\n",
    "    ax.plot(alpha, log_error_array,c='g')\n",
    "    for i, txt in enumerate(np.round(log_error_array,3)):\n",
    "        ax.annotate((alpha[i],np.round(txt,3)), (alpha[i],log_error_array[i]))\n",
    "    plt.grid()\n",
    "    plt.title(\"Cross Validation Error for each alpha\")\n",
    "    plt.xlabel(\"Alpha i's\")\n",
    "    plt.ylabel(\"Error measure\")\n",
    "    plt.show()\n",
    "\n",
    "\n",
    "    best_alpha = np.argmin(log_error_array)\n",
    "    clf = SGDClassifier(alpha=alpha[best_alpha], penalty='l1', loss='hinge', random_state=42)\n",
    "    clf.fit(X_train, y_train)\n",
    "    sig_clf = CalibratedClassifierCV(clf, method=\"sigmoid\")\n",
    "    sig_clf.fit(X_train, y_train)\n",
    "\n",
    "    predict_y = sig_clf.predict_proba(X_train)\n",
    "    print('For values of best alpha = ', alpha[best_alpha], \"The train log loss is:\",log_loss(y_train, predict_y, labels=clf.classes_, eps=1e-15))\n",
    "    predict_y = sig_clf.predict_proba(X_test)\n",
    "    print('For values of best alpha = ', alpha[best_alpha], \"The test log loss is:\",log_loss(y_test, predict_y, labels=clf.classes_, eps=1e-15))\n",
    "    predicted_y =clf.predict(X_test)\n",
    "    print(\"Total number of data points :\", len(predicted_y))\n",
    "    plot_confusion_matrix(y_test, predicted_y)"
   ]
  },
  {
   "cell_type": "markdown",
   "metadata": {},
   "source": [
    "### Linear SVM-TFIDFW2V"
   ]
  },
  {
   "cell_type": "code",
   "execution_count": 111,
   "metadata": {},
   "outputs": [
    {
     "name": "stdout",
     "output_type": "stream",
     "text": [
      "For values of alpha =  1e-05 The log loss is: 0.6585099780392267\n",
      "For values of alpha =  0.0001 The log loss is: 0.6585099780392267\n",
      "For values of alpha =  0.001 The log loss is: 0.5881934529499151\n",
      "For values of alpha =  0.01 The log loss is: 0.4881601036678271\n",
      "For values of alpha =  0.1 The log loss is: 0.5475705434992909\n",
      "For values of alpha =  1 The log loss is: 0.6295541915062207\n",
      "For values of alpha =  10 The log loss is: 0.6579039559192923\n"
     ]
    },
    {
     "data": {
      "image/png": "[encoded data removed]",
      "text/plain": [
       "<Figure size 432x288 with 1 Axes>"
      ]
     },
     "metadata": {
      "needs_background": "light"
     },
     "output_type": "display_data"
    },
    {
     "name": "stdout",
     "output_type": "stream",
     "text": [
      "For values of best alpha =  0.01 The train log loss is: 0.49436856992820455\n",
      "For values of best alpha =  0.01 The test log loss is: 0.4881601036678271\n",
      "Total number of data points : 30000\n"
     ]
    },
    {
     "data": {
      "image/png": "[encoded data removed]",
      "text/plain": [
       "<Figure size 1440x288 with 6 Axes>"
      ]
     },
     "metadata": {
      "needs_background": "light"
     },
     "output_type": "display_data"
    }
   ],
   "source": [
    "#fiiting the data using the svm model\n",
    "lr_svm(X_train_w2v,X_test_w2v,y_train,y_test)"
   ]
  },
  {
   "cell_type": "markdown",
   "metadata": {
    "colab_type": "text",
    "id": "ZhTJgclztAS6"
   },
   "source": [
    "<h2> 4.6 XGBoost </h2>"
   ]
  },
  {
   "cell_type": "code",
   "execution_count": 114,
   "metadata": {
    "colab": {},
    "colab_type": "code",
    "id": "9U367-xetAS7",
    "outputId": "167e8588-2ac4-4c6d-ac22-f56a2fce5657"
   },
   "outputs": [
    {
     "name": "stdout",
     "output_type": "stream",
     "text": [
      "[0]\ttrain-logloss:0.68487\tvalid-logloss:0.68485\n",
      "Multiple eval metrics have been passed: 'valid-logloss' will be used for early stopping.\n",
      "\n",
      "Will train until valid-logloss hasn't improved in 20 rounds.\n",
      "[10]\ttrain-logloss:0.61605\tvalid-logloss:0.61599\n",
      "[20]\ttrain-logloss:0.56509\tvalid-logloss:0.56497\n",
      "[30]\ttrain-logloss:0.52726\tvalid-logloss:0.52711\n",
      "[40]\ttrain-logloss:0.49776\tvalid-logloss:0.49774\n",
      "[50]\ttrain-logloss:0.47491\tvalid-logloss:0.47510\n",
      "[60]\ttrain-logloss:0.45692\tvalid-logloss:0.45729\n",
      "[70]\ttrain-logloss:0.44227\tvalid-logloss:0.44280\n",
      "[80]\ttrain-logloss:0.43047\tvalid-logloss:0.43121\n",
      "[90]\ttrain-logloss:0.42075\tvalid-logloss:0.42172\n",
      "[100]\ttrain-logloss:0.41258\tvalid-logloss:0.41372\n",
      "[110]\ttrain-logloss:0.40590\tvalid-logloss:0.40718\n",
      "[120]\ttrain-logloss:0.40007\tvalid-logloss:0.40158\n",
      "[130]\ttrain-logloss:0.39527\tvalid-logloss:0.39687\n",
      "[140]\ttrain-logloss:0.39100\tvalid-logloss:0.39278\n",
      "[150]\ttrain-logloss:0.38723\tvalid-logloss:0.38924\n",
      "[160]\ttrain-logloss:0.38407\tvalid-logloss:0.38631\n",
      "[170]\ttrain-logloss:0.38140\tvalid-logloss:0.38385\n",
      "[180]\ttrain-logloss:0.37903\tvalid-logloss:0.38174\n",
      "[190]\ttrain-logloss:0.37685\tvalid-logloss:0.37978\n",
      "[200]\ttrain-logloss:0.37486\tvalid-logloss:0.37802\n",
      "[210]\ttrain-logloss:0.37303\tvalid-logloss:0.37645\n",
      "[220]\ttrain-logloss:0.37139\tvalid-logloss:0.37501\n",
      "[230]\ttrain-logloss:0.36974\tvalid-logloss:0.37351\n",
      "[240]\ttrain-logloss:0.36800\tvalid-logloss:0.37208\n",
      "[250]\ttrain-logloss:0.36646\tvalid-logloss:0.37081\n",
      "[260]\ttrain-logloss:0.36507\tvalid-logloss:0.36973\n",
      "[270]\ttrain-logloss:0.36349\tvalid-logloss:0.36839\n",
      "[280]\ttrain-logloss:0.36210\tvalid-logloss:0.36730\n",
      "[290]\ttrain-logloss:0.36085\tvalid-logloss:0.36629\n",
      "[300]\ttrain-logloss:0.35951\tvalid-logloss:0.36527\n",
      "[310]\ttrain-logloss:0.35841\tvalid-logloss:0.36447\n",
      "[320]\ttrain-logloss:0.35732\tvalid-logloss:0.36363\n",
      "[330]\ttrain-logloss:0.35627\tvalid-logloss:0.36285\n",
      "[340]\ttrain-logloss:0.35514\tvalid-logloss:0.36201\n",
      "[350]\ttrain-logloss:0.35414\tvalid-logloss:0.36127\n",
      "[360]\ttrain-logloss:0.35313\tvalid-logloss:0.36055\n",
      "[370]\ttrain-logloss:0.35226\tvalid-logloss:0.35988\n",
      "[380]\ttrain-logloss:0.35127\tvalid-logloss:0.35913\n",
      "[390]\ttrain-logloss:0.35046\tvalid-logloss:0.35855\n",
      "[399]\ttrain-logloss:0.34968\tvalid-logloss:0.35804\n",
      "The test log loss is: 0.35804224289065656\n"
     ]
    }
   ],
   "source": [
    "\n",
    "import xgboost as xgb\n",
    "params = {}\n",
    "params['objective'] = 'binary:logistic'\n",
    "params['eval_metric'] = 'logloss'\n",
    "params['eta'] = 0.02\n",
    "params['max_depth'] = 4\n",
    "\n",
    "d_train = xgb.DMatrix(X_train_w2v, label=y_train)\n",
    "d_test = xgb.DMatrix(X_test_w2v, label=y_test)\n",
    "\n",
    "watchlist = [(d_train, 'train'), (d_test, 'valid')]\n",
    "\n",
    "bst = xgb.train(params, d_train, 400, watchlist, early_stopping_rounds=20, verbose_eval=10)\n",
    "\n",
    "xgdmat = xgb.DMatrix(X_train_w2v,y_train)\n",
    "predict_y = bst.predict(d_test)\n",
    "print(\"The test log loss is:\",log_loss(y_test, predict_y, labels=clf.classes_, eps=1e-15))"
   ]
  },
  {
   "cell_type": "code",
   "execution_count": 115,
   "metadata": {
    "colab": {},
    "colab_type": "code",
    "id": "6U5b17AatAS_",
    "outputId": "ca83b680-023b-4bc5-f499-8d8d85c2ff5e"
   },
   "outputs": [
    {
     "name": "stdout",
     "output_type": "stream",
     "text": [
      "Total number of data points : 30000\n"
     ]
    },
    {
     "data": {
      "image/png": "[encoded data removed]",
      "text/plain": [
       "<Figure size 1440x288 with 6 Axes>"
      ]
     },
     "metadata": {
      "needs_background": "light"
     },
     "output_type": "display_data"
    }
   ],
   "source": [
    "predicted_y =np.array(predict_y>0.5,dtype=int)\n",
    "print(\"Total number of data points :\", len(predicted_y))\n",
    "plot_confusion_matrix(y_test, predicted_y)"
   ]
  },
  {
   "cell_type": "markdown",
   "metadata": {},
   "source": [
    "### Hyperparameter Tuning XGboost using Random Search"
   ]
  },
  {
   "cell_type": "code",
   "execution_count": 116,
   "metadata": {},
   "outputs": [
    {
     "data": {
      "text/plain": [
       "{'n_estimators': 100, 'max_depth': 5}"
      ]
     },
     "execution_count": 116,
     "metadata": {},
     "output_type": "execute_result"
    }
   ],
   "source": [
    "from sklearn.model_selection import RandomizedSearchCV\n",
    "param_grid = {\"max_depth\":[1,5,10,50,100,500,1000],\n",
    "              \"n_estimators\":[50,100,150,200,300,400,500]}\n",
    "clf_xgb = xgb.XGBClassifier()\n",
    "model = RandomizedSearchCV(clf_xgb, param_distributions=param_grid,scoring='neg_log_loss')\n",
    "model.fit(X_train_w2v,y_train)\n",
    "model.best_params_"
   ]
  },
  {
   "cell_type": "code",
   "execution_count": 120,
   "metadata": {},
   "outputs": [
    {
     "name": "stdout",
     "output_type": "stream",
     "text": [
      "Train log loss =  0.2679294073244041  Test log loss =  0.3408549307225352\n"
     ]
    },
    {
     "data": {
      "image/png": "[encoded data removed]",
      "text/plain": [
       "<Figure size 1440x288 with 6 Axes>"
      ]
     },
     "metadata": {
      "needs_background": "light"
     },
     "output_type": "display_data"
    }
   ],
   "source": [
    "#now fitting the parameters\n",
    "clf=xgb.XGBClassifier(random_state=25,max_depth=5,n_estimators=100)\n",
    "clf.fit(X_train_w2v,y_train)\n",
    "y_pred_test=clf.predict_proba(X_test_w2v)\n",
    "y_pred_train=clf.predict_proba(X_train_w2v)\n",
    "log_loss_train = log_loss(y_train, y_pred_train, eps=1e-15)\n",
    "log_loss_test=log_loss(y_test,y_pred_test,eps=1e-15)\n",
    "print('Train log loss = ',log_loss_train,' Test log loss = ',log_loss_test)\n",
    "predicted_y=clf.predict(X_test_w2v)\n",
    "plot_confusion_matrix(y_test,predicted_y)"
   ]
  },
  {
   "cell_type": "markdown",
   "metadata": {},
   "source": [
    "Although test prediction is good ,due to large gap in test and train loss the model is overfitting."
   ]
  },
  {
   "cell_type": "markdown",
   "metadata": {
    "colab_type": "text",
    "id": "WmiIgHOJtATF"
   },
   "source": [
    "## USING TFIDF "
   ]
  },
  {
   "cell_type": "code",
   "execution_count": 16,
   "metadata": {},
   "outputs": [
    {
     "name": "stdout",
     "output_type": "stream",
     "text": [
      "(70000, 27)\n",
      "(70000,)\n",
      "(30000, 27)\n",
      "(30000,)\n"
     ]
    }
   ],
   "source": [
    "X_train,X_test,y_train,y_test=train_test_split(X,y,random_state=3,test_size=0.3)\n",
    "print(X_train.shape)\n",
    "print(y_train.shape)\n",
    "print(X_test.shape)\n",
    "print(y_test.shape)"
   ]
  },
  {
   "cell_type": "code",
   "execution_count": 17,
   "metadata": {},
   "outputs": [],
   "source": [
    "X_tr_ques=X_train['questions']\n",
    "X_test_ques=X_test['questions']\n",
    "X_train=X_train.drop('questions',axis=1)\n",
    "X_test=X_test.drop('questions',axis=1)\n"
   ]
  },
  {
   "cell_type": "code",
   "execution_count": 19,
   "metadata": {},
   "outputs": [],
   "source": [
    "tf_idf_vect = TfidfVectorizer(ngram_range=(1,2),min_df=10)\n",
    "vec1=tf_idf_vect.fit_transform(X_tr_ques)\n",
    "vec2=tf_idf_vect.transform(X_test_ques)"
   ]
  },
  {
   "cell_type": "code",
   "execution_count": 21,
   "metadata": {},
   "outputs": [],
   "source": [
    "X_train_tfidf = hstack((X_train.values,vec1))\n",
    "X_test_tfidf= hstack((X_test.values,vec2))"
   ]
  },
  {
   "cell_type": "markdown",
   "metadata": {},
   "source": [
    "### Logistic Regression-TFIDF"
   ]
  },
  {
   "cell_type": "code",
   "execution_count": 24,
   "metadata": {},
   "outputs": [
    {
     "name": "stdout",
     "output_type": "stream",
     "text": [
      "For values of alpha =  1e-05 The log loss is: 0.4340030445107614\n",
      "For values of alpha =  0.0001 The log loss is: 0.4195630181625581\n",
      "For values of alpha =  0.001 The log loss is: 0.4248116397493368\n",
      "For values of alpha =  0.01 The log loss is: 0.45610190969640896\n",
      "For values of alpha =  0.1 The log loss is: 0.4627182819280148\n",
      "For values of alpha =  1 The log loss is: 0.4957515959268263\n",
      "For values of alpha =  10 The log loss is: 0.5457523202239005\n"
     ]
    },
    {
     "data": {
      "image/png": "[encoded data removed]",
      "text/plain": [
       "<Figure size 432x288 with 1 Axes>"
      ]
     },
     "metadata": {
      "needs_background": "light"
     },
     "output_type": "display_data"
    },
    {
     "name": "stdout",
     "output_type": "stream",
     "text": [
      "For values of best alpha =  0.0001 The train log loss is: 0.4160527780432016\n",
      "For values of best alpha =  0.0001 The test log loss is: 0.4195630181625581\n",
      "Total number of data points : 30000\n"
     ]
    },
    {
     "data": {
      "image/png": "[encoded data removed]",
      "text/plain": [
       "<Figure size 1440x288 with 6 Axes>"
      ]
     },
     "metadata": {
      "needs_background": "light"
     },
     "output_type": "display_data"
    }
   ],
   "source": [
    "#fitting  the data to logistic regression\n",
    "log_reg(X_train_tfidf,X_test_tfidf,y_train,y_test)"
   ]
  },
  {
   "cell_type": "markdown",
   "metadata": {},
   "source": [
    "### Linear SVM-TFIDF"
   ]
  },
  {
   "cell_type": "code",
   "execution_count": 25,
   "metadata": {},
   "outputs": [
    {
     "name": "stdout",
     "output_type": "stream",
     "text": [
      "For values of alpha =  1e-05 The log loss is: 0.436777383836121\n",
      "For values of alpha =  0.0001 The log loss is: 0.46214352160807454\n",
      "For values of alpha =  0.001 The log loss is: 0.4845946654416849\n",
      "For values of alpha =  0.01 The log loss is: 0.5195647114863139\n",
      "For values of alpha =  0.1 The log loss is: 0.47881233720336164\n",
      "For values of alpha =  1 The log loss is: 0.5916997298768512\n",
      "For values of alpha =  10 The log loss is: 0.6468072334208979\n"
     ]
    },
    {
     "data": {
      "image/png": "[encoded data removed]",
      "text/plain": [
       "<Figure size 432x288 with 1 Axes>"
      ]
     },
     "metadata": {
      "needs_background": "light"
     },
     "output_type": "display_data"
    },
    {
     "name": "stdout",
     "output_type": "stream",
     "text": [
      "For values of best alpha =  1e-05 The train log loss is: 0.43227450771906223\n",
      "For values of best alpha =  1e-05 The test log loss is: 0.436777383836121\n",
      "Total number of data points : 30000\n"
     ]
    },
    {
     "data": {
      "image/png": "[encoded data removed]",
      "text/plain": [
       "<Figure size 1440x288 with 6 Axes>"
      ]
     },
     "metadata": {
      "needs_background": "light"
     },
     "output_type": "display_data"
    }
   ],
   "source": [
    "lr_svm(X_train_tfidf,X_test_tfidf,y_train,y_test)"
   ]
  },
  {
   "cell_type": "markdown",
   "metadata": {},
   "source": [
    "### Conclusions"
   ]
  },
  {
   "cell_type": "code",
   "execution_count": 30,
   "metadata": {},
   "outputs": [
    {
     "name": "stdout",
     "output_type": "stream",
     "text": [
      "+------------------------------+-------------+----------------+---------------+\n",
      "|            Model             |  Vectorizer | Train-log loss | Test-log loss |\n",
      "+------------------------------+-------------+----------------+---------------+\n",
      "|     Logistic regression      | TFIDF w2vec |     0.455      |     0.455     |\n",
      "|          Linear SVM          | TFIDF w2vec |    0.48816     |     0.488     |\n",
      "| XGBOOST-Without hyper tuning | TFIDF w2vec |      0.34      |      0.35     |\n",
      "|  XGBOOST-With hyper tuning   | TFIDF w2vec |      0.26      |      0.34     |\n",
      "|     Logistic regression      |    TFIDF    |      0.41      |      0.41     |\n",
      "|          Linear SVM          |    TFIDF    |      0.43      |      0.43     |\n",
      "+------------------------------+-------------+----------------+---------------+\n"
     ]
    }
   ],
   "source": [
    "from prettytable import PrettyTable    \n",
    "x = PrettyTable()\n",
    "x.field_names = [\"Model\",\"Vectorizer\",\"Train-log loss\",\"Test-log loss\"]\n",
    "x.add_row(['Logistic regression','TFIDF w2vec','0.455','0.455'])\n",
    "x.add_row(['Linear SVM','TFIDF w2vec','0.48816','0.488'])\n",
    "x.add_row(['XGBOOST-Without hyper tuning','TFIDF w2vec','0.34','0.35'])\n",
    "x.add_row(['XGBOOST-With hyper tuning','TFIDF w2vec','0.26','0.34'])\n",
    "x.add_row(['Logistic regression','TFIDF ','0.41','0.41'])\n",
    "x.add_row(['Linear SVM','TFIDF','0.43','0.43'])\n",
    "\n",
    "print(x)\n"
   ]
  },
  {
   "cell_type": "markdown",
   "metadata": {},
   "source": [
    "From the above tables we can safely conclude that XGboost without hypertuning has given us the least log loss ,hence the best model"
   ]
  },
  {
   "cell_type": "markdown",
   "metadata": {},
   "source": [
    "### Summary"
   ]
  },
  {
   "cell_type": "markdown",
   "metadata": {},
   "source": [
    "1) First we did Exploratory Data Analysis on Quora Question Pair in which we performed such as finding number of different questions, checking for duplicates, number of occurence of questions etc. 2) Then we performed some feature extraction like fuzz ratio, fuzz partial ration, longest common substring etc. 3) After performing feature extraction we applied some visualisation techniques such as pair-plot, violin plot, TSNE etc. 4) Then we peformed tfidf-w2vec vectorizer on pair of questions dataset and then we merged each tfidf-w2vec vectors to our advanced featured vectors. 5) In the next step we applied machine learning algorithms such as logistic regression, support vector machines and XGBoost and found log-loss for both train and test dataset using both tfidfw2v and tfidf featurization. 6) After choosing best parameters we then plotted confusion matrix, precision matrix and recall matrix for each model.7) We chose the best model based on log loss metric"
   ]
  }
 ],
 "metadata": {
  "colab": {
   "collapsed_sections": [],
   "name": "4.ML_models.ipynb",
   "provenance": []
  },
  "kernelspec": {
   "display_name": "Python 3",
   "language": "python",
   "name": "python3"
  },
  "language_info": {
   "codemirror_mode": {
    "name": "ipython",
    "version": 3
   },
   "file_extension": ".py",
   "mimetype": "text/x-python",
   "name": "python",
   "nbconvert_exporter": "python",
   "pygments_lexer": "ipython3",
   "version": "3.7.4"
  }
 },
 "nbformat": 4,
 "nbformat_minor": 1
}
